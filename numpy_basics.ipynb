{
 "cells": [
  {
   "cell_type": "raw",
   "id": "c1f0cda0",
   "metadata": {},
   "source": [
    "1. Create a numpy array with numpy.array module and with a data type integer and float."
   ]
  },
  {
   "cell_type": "code",
   "execution_count": 6,
   "id": "788a2667",
   "metadata": {},
   "outputs": [
    {
     "data": {
      "text/plain": [
       "array([1, 2, 3, 4, 5])"
      ]
     },
     "execution_count": 6,
     "metadata": {},
     "output_type": "execute_result"
    }
   ],
   "source": [
    "import numpy\n",
    "array=numpy.array([1,2,3,4,5],dtype=int)\n",
    "array"
   ]
  },
  {
   "cell_type": "code",
   "execution_count": 7,
   "id": "9c0557e2",
   "metadata": {},
   "outputs": [
    {
     "data": {
      "text/plain": [
       "array([1., 2., 3., 4., 5.])"
      ]
     },
     "execution_count": 7,
     "metadata": {},
     "output_type": "execute_result"
    }
   ],
   "source": [
    "import numpy\n",
    "array=numpy.array([1,2,3,4,5],dtype=float)\n",
    "array"
   ]
  },
  {
   "cell_type": "raw",
   "id": "74f24712",
   "metadata": {},
   "source": [
    "2. Create numpy arrays that have zero, one, two, three, Four dimensions respectively. Also,\n",
    "print the shape and dimensions of the numpy arrays created above."
   ]
  },
  {
   "cell_type": "code",
   "execution_count": 8,
   "id": "c7b0c280",
   "metadata": {},
   "outputs": [],
   "source": [
    "import numpy as np\n"
   ]
  },
  {
   "cell_type": "code",
   "execution_count": 9,
   "id": "63090728",
   "metadata": {},
   "outputs": [
    {
     "name": "stdout",
     "output_type": "stream",
     "text": [
      "10\n",
      "0\n",
      "()\n"
     ]
    }
   ],
   "source": [
    "#o dimension\n",
    "arr0=np.array(10)\n",
    "print(arr0)\n",
    "print(arr0.ndim)\n",
    "print(arr0.shape)"
   ]
  },
  {
   "cell_type": "code",
   "execution_count": 10,
   "id": "a4c55798",
   "metadata": {},
   "outputs": [
    {
     "name": "stdout",
     "output_type": "stream",
     "text": [
      "[1 2 3 4 5]\n",
      "1\n",
      "(5,)\n"
     ]
    }
   ],
   "source": [
    "#1 dimension\n",
    "arr1=np.array([1,2,3,4,5])\n",
    "print(arr1)\n",
    "print(arr1.ndim)\n",
    "print(arr1.shape)"
   ]
  },
  {
   "cell_type": "code",
   "execution_count": 14,
   "id": "51e8ada5",
   "metadata": {},
   "outputs": [
    {
     "name": "stdout",
     "output_type": "stream",
     "text": [
      "[[1 2 2]\n",
      " [3 4 5]]\n",
      "2\n",
      "(2, 3)\n"
     ]
    }
   ],
   "source": [
    "#2 dimension\n",
    "arr2=np.array([[1,2,2],[3,4,5]])\n",
    "print(arr2)\n",
    "print(arr2.ndim)\n",
    "print(arr2.shape)"
   ]
  },
  {
   "cell_type": "code",
   "execution_count": 16,
   "id": "24678356",
   "metadata": {},
   "outputs": [
    {
     "name": "stdout",
     "output_type": "stream",
     "text": [
      "[[[1 2 1]\n",
      "  [3 4 5]]]\n",
      "3\n",
      "(1, 2, 3)\n"
     ]
    }
   ],
   "source": [
    "#3 dimension\n",
    "arr3=np.array([[[1,2,1],[3,4,5]]])\n",
    "print(arr3)\n",
    "print(arr3.ndim)\n",
    "print(arr3.shape)"
   ]
  },
  {
   "cell_type": "code",
   "execution_count": 18,
   "id": "2d884736",
   "metadata": {},
   "outputs": [
    {
     "name": "stdout",
     "output_type": "stream",
     "text": [
      "[[[[1 2 1]\n",
      "   [3 4 5]]]]\n",
      "4\n",
      "(1, 1, 2, 3)\n"
     ]
    }
   ],
   "source": [
    "#3 dimension\n",
    "arr4=np.array([[[[1,2,1],[3,4,5]]]])\n",
    "print(arr4)\n",
    "print(arr4.ndim)\n",
    "print(arr4.shape)"
   ]
  },
  {
   "cell_type": "raw",
   "id": "effe5cea",
   "metadata": {},
   "source": [
    "3. Create a 2x2, 3x3, and 4x4 identity matrix using numpy."
   ]
  },
  {
   "cell_type": "code",
   "execution_count": 20,
   "id": "08e1183f",
   "metadata": {},
   "outputs": [
    {
     "name": "stdout",
     "output_type": "stream",
     "text": [
      "2X2 matrix\n",
      "[[1 0]\n",
      " [0 1]]\n"
     ]
    }
   ],
   "source": [
    "#2X2\n",
    "a=np.identity(2,dtype=int)\n",
    "print(\"2X2 matrix\")\n",
    "print(a)"
   ]
  },
  {
   "cell_type": "code",
   "execution_count": 24,
   "id": "e51c7976",
   "metadata": {},
   "outputs": [
    {
     "name": "stdout",
     "output_type": "stream",
     "text": [
      "2X3 matrix\n",
      "[[1. 0. 0.]\n",
      " [0. 1. 0.]]\n"
     ]
    }
   ],
   "source": [
    "# 2X3\n",
    "a0=np.eye(2, 3)\n",
    "print(\"2X3 matrix\")\n",
    "print(a0)"
   ]
  },
  {
   "cell_type": "code",
   "execution_count": 25,
   "id": "9265bceb",
   "metadata": {},
   "outputs": [
    {
     "name": "stdout",
     "output_type": "stream",
     "text": [
      "3X3 matrix\n",
      "[[1 0 0]\n",
      " [0 1 0]\n",
      " [0 0 1]]\n"
     ]
    }
   ],
   "source": [
    "#3X3\n",
    "a1=np.identity(3,dtype=int)\n",
    "print(\"3X3 matrix\")\n",
    "print(a1)"
   ]
  },
  {
   "cell_type": "code",
   "execution_count": 26,
   "id": "736fce76",
   "metadata": {},
   "outputs": [
    {
     "name": "stdout",
     "output_type": "stream",
     "text": [
      "4X4 matrix\n",
      "[[1 0 0 0]\n",
      " [0 1 0 0]\n",
      " [0 0 1 0]\n",
      " [0 0 0 1]]\n"
     ]
    }
   ],
   "source": [
    "#4X4\n",
    "a2=np.identity(4,dtype=int)\n",
    "print(\"4X4 matrix\")\n",
    "print(a2)"
   ]
  },
  {
   "cell_type": "raw",
   "id": "8b0df1d9",
   "metadata": {},
   "source": [
    "4. Create a numpy array with shape 2x5 that has all the elements as zero"
   ]
  },
  {
   "cell_type": "code",
   "execution_count": 27,
   "id": "623ca56f",
   "metadata": {},
   "outputs": [
    {
     "name": "stdout",
     "output_type": "stream",
     "text": [
      "[[0 0 0 0 0]\n",
      " [0 0 0 0 0]]\n"
     ]
    }
   ],
   "source": [
    "#manual method\n",
    "m=np.array([[0,0,0,0,0],[0,0,0,0,0]])\n",
    "print(m)"
   ]
  },
  {
   "cell_type": "code",
   "execution_count": 30,
   "id": "47e4fca0",
   "metadata": {},
   "outputs": [
    {
     "name": "stdout",
     "output_type": "stream",
     "text": [
      "[[0 0 0 0 0]\n",
      " [0 0 0 0 0]]\n"
     ]
    }
   ],
   "source": [
    "#zeros\n",
    "z=np.zeros((2,5),dtype=int)\n",
    "print(z)"
   ]
  },
  {
   "cell_type": "code",
   "execution_count": 32,
   "id": "c313e3d4",
   "metadata": {},
   "outputs": [
    {
     "name": "stdout",
     "output_type": "stream",
     "text": [
      "[[0 0 0 0 0]\n",
      " [0 0 0 0 0]]\n"
     ]
    }
   ],
   "source": [
    "#full\n",
    "f=np.full([2,5],0)\n",
    "print(f)"
   ]
  },
  {
   "cell_type": "raw",
   "id": "52b9710c",
   "metadata": {},
   "source": [
    "5. Create a numpy array that has the shape 3x5 and all the elements are 5"
   ]
  },
  {
   "cell_type": "code",
   "execution_count": 33,
   "id": "6054fe08",
   "metadata": {},
   "outputs": [
    {
     "name": "stdout",
     "output_type": "stream",
     "text": [
      "[[5 5 5 5 5]\n",
      " [5 5 5 5 5]\n",
      " [5 5 5 5 5]]\n"
     ]
    }
   ],
   "source": [
    "k=np.full([3,5],5)\n",
    "print(k)"
   ]
  },
  {
   "cell_type": "raw",
   "id": "ef4267ca",
   "metadata": {},
   "source": [
    "6. Create a numpy array with random integers in the range 0-100, and the sample size should be 25."
   ]
  },
  {
   "cell_type": "code",
   "execution_count": 36,
   "id": "e2a4ab69",
   "metadata": {},
   "outputs": [
    {
     "name": "stdout",
     "output_type": "stream",
     "text": [
      "[56 92 65 18 50 40 49 33 28 22 91 68 93 16 31 86 47 67 29 15  6 94 61 46\n",
      " 40]\n"
     ]
    }
   ],
   "source": [
    "e=np.random.randint(0,100,size=25)\n",
    "print(e)"
   ]
  },
  {
   "cell_type": "raw",
   "id": "f51a8c9d",
   "metadata": {},
   "source": [
    "7. Create a numpy array with a shape 3x3 that has all elements as 1"
   ]
  },
  {
   "cell_type": "code",
   "execution_count": 37,
   "id": "2e917bc6",
   "metadata": {},
   "outputs": [
    {
     "name": "stdout",
     "output_type": "stream",
     "text": [
      "[[1 1 1]\n",
      " [1 1 1]\n",
      " [1 1 1]]\n"
     ]
    }
   ],
   "source": [
    "v=np.ones([3,3],dtype=int)\n",
    "print(v)"
   ]
  },
  {
   "cell_type": "code",
   "execution_count": 45,
   "id": "61aba79c",
   "metadata": {},
   "outputs": [
    {
     "name": "stdout",
     "output_type": "stream",
     "text": [
      "[[1 1 1]\n",
      " [1 1 1]\n",
      " [1 1 1]]\n"
     ]
    }
   ],
   "source": [
    "n=np.full([3,3],1)\n",
    "print(n)\n"
   ]
  },
  {
   "cell_type": "raw",
   "id": "d4024855",
   "metadata": {},
   "source": [
    "8. Create a numpy array in the shape 2x3 with random integers in the range 0-100. Reshape \n",
    "the array in the shape 3x2 and print the updated shape of the resultant array"
   ]
  },
  {
   "cell_type": "code",
   "execution_count": 48,
   "id": "8fe6fe46",
   "metadata": {},
   "outputs": [
    {
     "name": "stdout",
     "output_type": "stream",
     "text": [
      "[[32 26 88]\n",
      " [13 20 14]]\n"
     ]
    }
   ],
   "source": [
    "k=np.random.randint(0,100,(2,3))\n",
    "print(k)"
   ]
  },
  {
   "cell_type": "code",
   "execution_count": 49,
   "id": "e1d9b0f8",
   "metadata": {},
   "outputs": [
    {
     "name": "stdout",
     "output_type": "stream",
     "text": [
      "[[32 26]\n",
      " [88 13]\n",
      " [20 14]]\n"
     ]
    }
   ],
   "source": [
    "print(k.reshape(3,2))"
   ]
  },
  {
   "cell_type": "raw",
   "id": "f93c3f79",
   "metadata": {},
   "source": [
    "9. Create a random array, with the range 0-1000, \n",
    "with a size 50 and \n",
    "step 2. Perform the following operations on the same."
   ]
  },
  {
   "cell_type": "code",
   "execution_count": 62,
   "id": "cf175b2f",
   "metadata": {},
   "outputs": [
    {
     "name": "stdout",
     "output_type": "stream",
     "text": [
      "[300 612 242 456 625  89 198 461 127 685  25 321 215 113 420  41 365 383\n",
      " 820 456 147 274 789 778 592 670 738 927 792 710 828  92  32 736 287 181\n",
      " 213 347 485  79 814 380 773 318 376 359 604 119 880 993]\n"
     ]
    }
   ],
   "source": [
    "i=np.random.randint(0,1000,50) #(start,end,no.of elements)\n",
    "print(i)"
   ]
  },
  {
   "cell_type": "code",
   "execution_count": 59,
   "id": "728628e0",
   "metadata": {},
   "outputs": [
    {
     "name": "stdout",
     "output_type": "stream",
     "text": [
      "[  0   2   4   6   8  10  12  14  16  18  20  22  24  26  28  30  32  34\n",
      "  36  38  40  42  44  46  48  50  52  54  56  58  60  62  64  66  68  70\n",
      "  72  74  76  78  80  82  84  86  88  90  92  94  96  98 100 102 104 106\n",
      " 108 110 112 114 116 118 120 122 124 126 128 130 132 134 136 138 140 142\n",
      " 144 146 148 150 152 154 156 158 160 162 164 166 168 170 172 174 176 178\n",
      " 180 182 184 186 188 190 192 194 196 198 200 202 204 206 208 210 212 214\n",
      " 216 218 220 222 224 226 228 230 232 234 236 238 240 242 244 246 248 250\n",
      " 252 254 256 258 260 262 264 266 268 270 272 274 276 278 280 282 284 286\n",
      " 288 290 292 294 296 298 300 302 304 306 308 310 312 314 316 318 320 322\n",
      " 324 326 328 330 332 334 336 338 340 342 344 346 348 350 352 354 356 358\n",
      " 360 362 364 366 368 370 372 374 376 378 380 382 384 386 388 390 392 394\n",
      " 396 398 400 402 404 406 408 410 412 414 416 418 420 422 424 426 428 430\n",
      " 432 434 436 438 440 442 444 446 448 450 452 454 456 458 460 462 464 466\n",
      " 468 470 472 474 476 478 480 482 484 486 488 490 492 494 496 498 500 502\n",
      " 504 506 508 510 512 514 516 518 520 522 524 526 528 530 532 534 536 538\n",
      " 540 542 544 546 548 550 552 554 556 558 560 562 564 566 568 570 572 574\n",
      " 576 578 580 582 584 586 588 590 592 594 596 598 600 602 604 606 608 610\n",
      " 612 614 616 618 620 622 624 626 628 630 632 634 636 638 640 642 644 646\n",
      " 648 650 652 654 656 658 660 662 664 666 668 670 672 674 676 678 680 682\n",
      " 684 686 688 690 692 694 696 698 700 702 704 706 708 710 712 714 716 718\n",
      " 720 722 724 726 728 730 732 734 736 738 740 742 744 746 748 750 752 754\n",
      " 756 758 760 762 764 766 768 770 772 774 776 778 780 782 784 786 788 790\n",
      " 792 794 796 798 800 802 804 806 808 810 812 814 816 818 820 822 824 826\n",
      " 828 830 832 834 836 838 840 842 844 846 848 850 852 854 856 858 860 862\n",
      " 864 866 868 870 872 874 876 878 880 882 884 886 888 890 892 894 896 898\n",
      " 900 902 904 906 908 910 912 914 916 918 920 922 924 926 928 930 932 934\n",
      " 936 938 940 942 944 946 948 950 952 954 956 958 960 962 964 966 968 970\n",
      " 972 974 976 978 980 982 984 986 988 990 992 994 996 998]\n"
     ]
    }
   ],
   "source": [
    "m=np.arange(0,1000,2) #(start, end,skip value(if it is 2 then 1 value will be skipped))\n",
    "print(m)"
   ]
  },
  {
   "cell_type": "code",
   "execution_count": 58,
   "id": "8703d809",
   "metadata": {},
   "outputs": [
    {
     "name": "stdout",
     "output_type": "stream",
     "text": [
      "[960 943 477 157 237 531 313 608 790 736 676  99 439 488 790 223 463 955\n",
      " 968 499  91 789 447 270   3]\n"
     ]
    }
   ],
   "source": [
    "l=np.random.randint(0,1000,50)\n",
    "print(l[0:50:2])"
   ]
  },
  {
   "cell_type": "raw",
   "id": "74add7db",
   "metadata": {},
   "source": [
    "a. Print the first ten elements of the array\n"
   ]
  },
  {
   "cell_type": "code",
   "execution_count": 66,
   "id": "37c53547",
   "metadata": {},
   "outputs": [
    {
     "name": "stdout",
     "output_type": "stream",
     "text": [
      "[300 612 242 456 625  89 198 461 127 685]\n"
     ]
    }
   ],
   "source": [
    "print(i[:10])"
   ]
  },
  {
   "cell_type": "code",
   "execution_count": 67,
   "id": "6eb20a12",
   "metadata": {},
   "outputs": [
    {
     "name": "stdout",
     "output_type": "stream",
     "text": [
      "[ 0  2  4  6  8 10 12 14 16 18]\n"
     ]
    }
   ],
   "source": [
    "print(m[:10])"
   ]
  },
  {
   "cell_type": "raw",
   "id": "25f8a08b",
   "metadata": {},
   "source": [
    "b. Print the last ten elements of the array"
   ]
  },
  {
   "cell_type": "code",
   "execution_count": 68,
   "id": "186c06b7",
   "metadata": {},
   "outputs": [
    {
     "name": "stdout",
     "output_type": "stream",
     "text": [
      "[980 982 984 986 988 990 992 994 996 998]\n"
     ]
    }
   ],
   "source": [
    "print(m[-10:])"
   ]
  },
  {
   "cell_type": "raw",
   "id": "0d7d0a36",
   "metadata": {},
   "source": [
    "c. Print the elements from the indexes 10-25"
   ]
  },
  {
   "cell_type": "code",
   "execution_count": 69,
   "id": "ba01c7e3",
   "metadata": {},
   "outputs": [
    {
     "name": "stdout",
     "output_type": "stream",
     "text": [
      "[20 22 24 26 28 30 32 34 36 38 40 42 44 46 48 50]\n"
     ]
    }
   ],
   "source": [
    "print(m[10:26])"
   ]
  },
  {
   "cell_type": "raw",
   "id": "e31c102a",
   "metadata": {},
   "source": [
    "d. Print the element at the index 22"
   ]
  },
  {
   "cell_type": "code",
   "execution_count": 70,
   "id": "479ee0bf",
   "metadata": {},
   "outputs": [
    {
     "name": "stdout",
     "output_type": "stream",
     "text": [
      "44\n"
     ]
    }
   ],
   "source": [
    "print(m[22])"
   ]
  },
  {
   "cell_type": "raw",
   "id": "fb612bb8",
   "metadata": {},
   "source": [
    "e. Print the array using negative indexing"
   ]
  },
  {
   "cell_type": "code",
   "execution_count": 81,
   "id": "3b6a54a7",
   "metadata": {},
   "outputs": [
    {
     "name": "stdout",
     "output_type": "stream",
     "text": [
      "[  0   2   4   6   8  10  12  14  16  18  20  22  24  26  28  30  32  34\n",
      "  36  38  40  42  44  46  48  50  52  54  56  58  60  62  64  66  68  70\n",
      "  72  74  76  78  80  82  84  86  88  90  92  94  96  98 100 102 104 106\n",
      " 108 110 112 114 116 118 120 122 124 126 128 130 132 134 136 138 140 142\n",
      " 144 146 148 150 152 154 156 158 160 162 164 166 168 170 172 174 176 178\n",
      " 180 182 184 186 188 190 192 194 196 198 200 202 204 206 208 210 212 214\n",
      " 216 218 220 222 224 226 228 230 232 234 236 238 240 242 244 246 248 250\n",
      " 252 254 256 258 260 262 264 266 268 270 272 274 276 278 280 282 284 286\n",
      " 288 290 292 294 296 298 300 302 304 306 308 310 312 314 316 318 320 322\n",
      " 324 326 328 330 332 334 336 338 340 342 344 346 348 350 352 354 356 358\n",
      " 360 362 364 366 368 370 372 374 376 378 380 382 384 386 388 390 392 394\n",
      " 396 398 400 402 404 406 408 410 412 414 416 418 420 422 424 426 428 430\n",
      " 432 434 436 438 440 442 444 446 448 450 452 454 456 458 460 462 464 466\n",
      " 468 470 472 474 476 478 480 482 484 486 488 490 492 494 496 498 500 502\n",
      " 504 506 508 510 512 514 516 518 520 522 524 526 528 530 532 534 536 538\n",
      " 540 542 544 546 548 550 552 554 556 558 560 562 564 566 568 570 572 574\n",
      " 576 578 580 582 584 586 588 590 592 594 596 598 600 602 604 606 608 610\n",
      " 612 614 616 618 620 622 624 626 628 630 632 634 636 638 640 642 644 646\n",
      " 648 650 652 654 656 658 660 662 664 666 668 670 672 674 676 678 680 682\n",
      " 684 686 688 690 692 694 696 698 700 702 704 706 708 710 712 714 716 718\n",
      " 720 722 724 726 728 730 732 734 736 738 740 742 744 746 748 750 752 754\n",
      " 756 758 760 762 764 766 768 770 772 774 776 778 780 782 784 786 788 790\n",
      " 792 794 796 798 800 802 804 806 808 810 812 814 816 818 820 822 824 826\n",
      " 828 830 832 834 836 838 840 842 844 846 848 850 852 854 856 858 860 862\n",
      " 864 866 868 870 872 874 876 878 880 882 884 886 888 890 892 894 896 898\n",
      " 900 902 904 906 908 910 912 914 916 918 920 922 924 926 928 930 932 934\n",
      " 936 938 940 942 944 946 948 950 952 954 956 958 960 962 964 966 968 970\n",
      " 972 974 976 978 980 982 984 986 988 990 992 994 996]\n"
     ]
    }
   ],
   "source": [
    "print(m[:-1])"
   ]
  },
  {
   "cell_type": "code",
   "execution_count": 82,
   "id": "1957bf93",
   "metadata": {},
   "outputs": [
    {
     "name": "stdout",
     "output_type": "stream",
     "text": [
      "[  0   2   4   6   8  10  12  14  16  18  20  22  24  26  28  30  32  34\n",
      "  36  38  40  42  44  46  48  50  52  54  56  58  60  62  64  66  68  70\n",
      "  72  74  76  78  80  82  84  86  88  90  92  94  96  98 100 102 104 106\n",
      " 108 110 112 114 116 118 120 122 124 126 128 130 132 134 136 138 140 142\n",
      " 144 146 148 150 152 154 156 158 160 162 164 166 168 170 172 174 176 178\n",
      " 180 182 184 186 188 190 192 194 196 198 200 202 204 206 208 210 212 214\n",
      " 216 218 220 222 224 226 228 230 232 234 236 238 240 242 244 246 248 250\n",
      " 252 254 256 258 260 262 264 266 268 270 272 274 276 278 280 282 284 286\n",
      " 288 290 292 294 296 298 300 302 304 306 308 310 312 314 316 318 320 322\n",
      " 324 326 328 330 332 334 336 338 340 342 344 346 348 350 352 354 356 358\n",
      " 360 362 364 366 368 370 372 374 376 378 380 382 384 386 388 390 392 394\n",
      " 396 398 400 402 404 406 408 410 412 414 416 418 420 422 424 426 428 430\n",
      " 432 434 436 438 440 442 444 446 448 450 452 454 456 458 460 462 464 466\n",
      " 468 470 472 474 476 478 480 482 484 486 488 490 492 494 496 498 500 502\n",
      " 504 506 508 510 512 514 516 518 520 522 524 526 528 530 532 534 536 538\n",
      " 540 542 544 546 548 550 552 554 556 558 560 562 564 566 568 570 572 574\n",
      " 576 578 580 582 584 586 588 590 592 594 596 598 600 602 604 606 608 610\n",
      " 612 614 616 618 620 622 624 626 628 630 632 634 636 638 640 642 644 646\n",
      " 648 650 652 654 656 658 660 662 664 666 668 670 672 674 676 678 680 682\n",
      " 684 686 688 690 692 694 696 698 700 702 704 706 708 710 712 714 716 718\n",
      " 720 722 724 726 728 730 732 734 736 738 740 742 744 746 748 750 752 754\n",
      " 756 758 760 762 764 766 768 770 772 774 776 778 780 782 784 786 788 790\n",
      " 792 794 796 798 800 802 804 806 808 810 812 814 816 818 820 822 824 826\n",
      " 828 830 832 834 836 838 840 842 844 846 848 850 852 854 856 858 860 862\n",
      " 864 866 868 870 872 874 876 878 880 882 884 886 888 890 892 894 896 898\n",
      " 900 902 904 906 908 910 912 914 916 918 920 922 924 926 928 930 932 934\n",
      " 936 938 940 942 944 946 948 950 952 954 956 958 960 962 964 966 968 970\n",
      " 972 974 976 978 980 982 984 986 988 990 992 994 996 998]\n"
     ]
    }
   ],
   "source": [
    "print(m[-1000:])"
   ]
  },
  {
   "cell_type": "raw",
   "id": "c0070779",
   "metadata": {},
   "source": [
    "f. Print the last ten elements of the array, using negative indexing."
   ]
  },
  {
   "cell_type": "code",
   "execution_count": 84,
   "id": "1cca8a5c",
   "metadata": {},
   "outputs": [
    {
     "name": "stdout",
     "output_type": "stream",
     "text": [
      "[978 980 982 984 986 988 990 992 994 996]\n"
     ]
    }
   ],
   "source": [
    "print(m[-11:-1])"
   ]
  },
  {
   "cell_type": "raw",
   "id": "25f0cc36",
   "metadata": {},
   "source": [
    "10. Given a numpy array that has values = [1,2,3,4,5]. Perform the following operations.\n",
    "a. Insert the element 6 at the end of the array."
   ]
  },
  {
   "cell_type": "code",
   "execution_count": 85,
   "id": "a805a4f6",
   "metadata": {},
   "outputs": [
    {
     "name": "stdout",
     "output_type": "stream",
     "text": [
      "[1 2 3 4 5]\n"
     ]
    }
   ],
   "source": [
    "q=np.array([1,2,3,4,5])\n",
    "print(q)"
   ]
  },
  {
   "cell_type": "code",
   "execution_count": 86,
   "id": "069174a5",
   "metadata": {},
   "outputs": [
    {
     "name": "stdout",
     "output_type": "stream",
     "text": [
      "[1 2 3 4 5 6]\n"
     ]
    }
   ],
   "source": [
    "#a.\n",
    "q=np.append(q,6)\n",
    "print(q)\n"
   ]
  },
  {
   "cell_type": "code",
   "execution_count": 87,
   "id": "98ba0102",
   "metadata": {},
   "outputs": [
    {
     "name": "stdout",
     "output_type": "stream",
     "text": [
      "[10  1  2  3  4  5  6]\n"
     ]
    }
   ],
   "source": [
    "#b. Insert the element 10 at the beginning of the array.\n",
    "\n",
    "q=np.insert(q,0,10)\n",
    "print(q)\n"
   ]
  },
  {
   "cell_type": "code",
   "execution_count": 88,
   "id": "8a9e82f6",
   "metadata": {},
   "outputs": [
    {
     "name": "stdout",
     "output_type": "stream",
     "text": [
      "[10  1  2  3 30  4  5  6]\n"
     ]
    }
   ],
   "source": [
    "#c. Insert the element 30, before 4\n",
    "\n",
    "q=np.insert(q,4,30)\n",
    "print(q)"
   ]
  },
  {
   "cell_type": "code",
   "execution_count": 89,
   "id": "1dcd0c4c",
   "metadata": {},
   "outputs": [
    {
     "name": "stdout",
     "output_type": "stream",
     "text": [
      "[10  1  2  3 30  4 50  6]\n"
     ]
    }
   ],
   "source": [
    "#d. Update the element 5 as 50.\n",
    "\n",
    "q[6]=50\n",
    "print(q)"
   ]
  },
  {
   "cell_type": "code",
   "execution_count": 90,
   "id": "a599181d",
   "metadata": {},
   "outputs": [
    {
     "name": "stdout",
     "output_type": "stream",
     "text": [
      "[10  1  2  3 30  4  6]\n"
     ]
    }
   ],
   "source": [
    "#e. Delete the element 50 in the updated array.\n",
    "\n",
    "q=np.delete(q,6)\n",
    "print(q)"
   ]
  },
  {
   "cell_type": "code",
   "execution_count": 98,
   "id": "009aa211",
   "metadata": {},
   "outputs": [
    {
     "name": "stdout",
     "output_type": "stream",
     "text": [
      "30\n"
     ]
    }
   ],
   "source": [
    "#f. Create a function to search for the element 30.\n",
    "for i in q:\n",
    "    if i==30:\n",
    "        print(i)"
   ]
  },
  {
   "cell_type": "code",
   "execution_count": 100,
   "id": "8e7cbea0",
   "metadata": {},
   "outputs": [
    {
     "name": "stdout",
     "output_type": "stream",
     "text": [
      "[ 1  2  3  4  6 10 30]\n",
      "[30 10  6  4  3  2  1]\n"
     ]
    }
   ],
   "source": [
    "#g. Sort the array in ascending order.\n",
    "print(np.sort(q))\n",
    "q=np.sort(q)[::-1]\n",
    "print(q)"
   ]
  },
  {
   "cell_type": "code",
   "execution_count": null,
   "id": "fcb5e63b",
   "metadata": {},
   "outputs": [],
   "source": []
  }
 ],
 "metadata": {
  "kernelspec": {
   "display_name": "Python 3 (ipykernel)",
   "language": "python",
   "name": "python3"
  },
  "language_info": {
   "codemirror_mode": {
    "name": "ipython",
    "version": 3
   },
   "file_extension": ".py",
   "mimetype": "text/x-python",
   "name": "python",
   "nbconvert_exporter": "python",
   "pygments_lexer": "ipython3",
   "version": "3.10.9"
  }
 },
 "nbformat": 4,
 "nbformat_minor": 5
}
